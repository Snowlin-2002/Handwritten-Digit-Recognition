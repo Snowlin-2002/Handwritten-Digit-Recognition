{
 "cells": [
  {
   "cell_type": "code",
   "execution_count": 80,
   "id": "4cf7d2dc",
   "metadata": {},
   "outputs": [],
   "source": [
    "import keras\n",
    "from keras.preprocessing.image import ImageDataGenerator"
   ]
  },
  {
   "cell_type": "code",
   "execution_count": 82,
   "id": "e3d0a6f5",
   "metadata": {},
   "outputs": [],
   "source": [
    "#image augmentation\n",
    "train_datagen=ImageDataGenerator(rescale=1./255,\n",
    "                                shear_range=0.2,\n",
    "                                rotation_range=180,\n",
    "                                zoom_range=0.2,\n",
    "                                horizontal_flip=True)\n",
    "test_datagen=ImageDataGenerator(rescale=1./255)"
   ]
  },
  {
   "cell_type": "code",
   "execution_count": 83,
   "id": "72a3acc8",
   "metadata": {},
   "outputs": [
    {
     "name": "stdout",
     "output_type": "stream",
     "text": [
      "Found 4317 images belonging to 5 classes.\n"
     ]
    }
   ],
   "source": [
    "x_train=train_datagen.flow_from_directory(r'E:\\journal\\Nalaya thiran\\Flowers-Dataset\\flowers',\n",
    "                                         target_size=(64,64),\n",
    "                                         batch_size=24,\n",
    "                                         class_mode=\"categorical\")"
   ]
  },
  {
   "cell_type": "code",
   "execution_count": 84,
   "id": "3ec00d4d",
   "metadata": {},
   "outputs": [
    {
     "name": "stdout",
     "output_type": "stream",
     "text": [
      "Found 4317 images belonging to 5 classes.\n"
     ]
    }
   ],
   "source": [
    "x_test=test_datagen.flow_from_directory(r'E:\\journal\\Nalaya thiran\\Flowers-Dataset\\flowers',\n",
    "                                       target_size=(64,64),\n",
    "                                       batch_size=24,\n",
    "                                       class_mode=\"categorical\")"
   ]
  },
  {
   "cell_type": "code",
   "execution_count": 85,
   "id": "16e63b60",
   "metadata": {},
   "outputs": [],
   "source": [
    "from keras.models import Sequential\n",
    "from keras.layers import Dense\n",
    "from keras.layers import Convolution2D\n",
    "from keras.layers import MaxPooling2D\n",
    "from keras.layers import Flatten\n",
    "import warnings\n",
    "warnings.filterwarnings('ignore')"
   ]
  },
  {
   "cell_type": "code",
   "execution_count": 86,
   "id": "f0fb9931",
   "metadata": {},
   "outputs": [],
   "source": [
    "#create model\n",
    "model=Sequential()"
   ]
  },
  {
   "cell_type": "code",
   "execution_count": 87,
   "id": "48ddebc2",
   "metadata": {},
   "outputs": [],
   "source": [
    "#Add layers(Convolution,MaxPooling,Flatten,Dense-(Hidden Layers),Output)\n",
    "model.add(Convolution2D(32,(3,3),input_shape=(64,64,3),activation='relu'))\n",
    "model.add(MaxPooling2D(pool_size=(2,2)))\n",
    "model.add(Flatten())\n",
    "model.add(Dense(400,activation='relu'))\n",
    "model.add(Dense(5,activation='softmax'))\n"
   ]
  },
  {
   "cell_type": "code",
   "execution_count": 88,
   "id": "84b534a5",
   "metadata": {},
   "outputs": [],
   "source": [
    "#compile the model\n",
    "model.compile(loss=\"categorical_crossentropy\" , metrics= [\"accuracy\"], optimizer= \"adam\" )\n"
   ]
  },
  {
   "cell_type": "code",
   "execution_count": 89,
   "id": "0daf2be5",
   "metadata": {},
   "outputs": [
    {
     "data": {
      "text/plain": [
       "180"
      ]
     },
     "execution_count": 89,
     "metadata": {},
     "output_type": "execute_result"
    }
   ],
   "source": [
    "len(x_train)"
   ]
  },
  {
   "cell_type": "code",
   "execution_count": 90,
   "id": "a79d6cdf",
   "metadata": {},
   "outputs": [
    {
     "name": "stdout",
     "output_type": "stream",
     "text": [
      "Epoch 1/10\n",
      "180/180 [==============================] - 22s 115ms/step - loss: 1.2897 - accuracy: 0.4797\n",
      "Epoch 2/10\n",
      "180/180 [==============================] - 19s 105ms/step - loss: 1.0538 - accuracy: 0.5847\n",
      "Epoch 3/10\n",
      "180/180 [==============================] - 19s 105ms/step - loss: 0.9972 - accuracy: 0.5995\n",
      "Epoch 4/10\n",
      "180/180 [==============================] - 19s 107ms/step - loss: 0.9569 - accuracy: 0.6185\n",
      "Epoch 5/10\n",
      "180/180 [==============================] - 19s 104ms/step - loss: 0.9224 - accuracy: 0.6403\n",
      "Epoch 6/10\n",
      "180/180 [==============================] - 19s 104ms/step - loss: 0.9061 - accuracy: 0.6461\n",
      "Epoch 7/10\n",
      "180/180 [==============================] - 19s 106ms/step - loss: 0.8892 - accuracy: 0.6544\n",
      "Epoch 8/10\n",
      "180/180 [==============================] - 19s 107ms/step - loss: 0.8567 - accuracy: 0.6569\n",
      "Epoch 9/10\n",
      "180/180 [==============================] - 19s 105ms/step - loss: 0.8554 - accuracy: 0.6611\n",
      "Epoch 10/10\n",
      "180/180 [==============================] - 19s 104ms/step - loss: 0.8279 - accuracy: 0.6859\n"
     ]
    },
    {
     "data": {
      "text/plain": [
       "<keras.callbacks.History at 0x2e288379550>"
      ]
     },
     "execution_count": 90,
     "metadata": {},
     "output_type": "execute_result"
    }
   ],
   "source": [
    "model.fit(x_train,epochs=10,steps_per_epoch=len(x_train))"
   ]
  },
  {
   "cell_type": "code",
   "execution_count": 91,
   "id": "56c549c4",
   "metadata": {},
   "outputs": [],
   "source": [
    "from tensorflow.keras.models import load_model\n",
    "from tensorflow.keras.preprocessing import image\n",
    "import numpy as np\n",
    "import tensorflow as tf"
   ]
  },
  {
   "cell_type": "code",
   "execution_count": 92,
   "id": "de6126ac",
   "metadata": {},
   "outputs": [],
   "source": [
    "#Save the model\n",
    "model.save(\"flowers.h5\")"
   ]
  },
  {
   "cell_type": "code",
   "execution_count": 93,
   "id": "4a9e0cdd",
   "metadata": {},
   "outputs": [],
   "source": [
    "new_model = tf.keras.models.load_model('flowers.h5')"
   ]
  },
  {
   "cell_type": "code",
   "execution_count": 94,
   "id": "55983386",
   "metadata": {},
   "outputs": [
    {
     "data": {
      "image/png": "[encoded data removed]",
      "text/plain": [
       "<PIL.Image.Image image mode=RGB size=64x64 at 0x2E2E46381C0>"
      ]
     },
     "execution_count": 94,
     "metadata": {},
     "output_type": "execute_result"
    }
   ],
   "source": [
    "testImg = image.load_img(r'E:\\journal\\Nalaya thiran\\Flowers-Dataset\\flowers\\daisy\\img.jpg', target_size = (64,64))\n",
    "testImg"
   ]
  },
  {
   "cell_type": "code",
   "execution_count": 95,
   "id": "7c527733",
   "metadata": {},
   "outputs": [
    {
     "data": {
      "text/plain": [
       "array([[[210., 218., 239.],\n",
       "        [194., 202., 223.],\n",
       "        [175., 182., 201.],\n",
       "        ...,\n",
       "        [ 87., 113.,  65.],\n",
       "        [ 65.,  95.,  45.],\n",
       "        [ 63.,  89.,  41.]],\n",
       "\n",
       "       [[201., 209., 232.],\n",
       "        [180., 188., 207.],\n",
       "        [162., 168., 184.],\n",
       "        ...,\n",
       "        [ 74., 108.,  57.],\n",
       "        [ 67.,  94.,  39.],\n",
       "        [ 64.,  87.,  41.]],\n",
       "\n",
       "       [[188., 195., 221.],\n",
       "        [169., 177., 196.],\n",
       "        [150., 157., 167.],\n",
       "        ...,\n",
       "        [ 63.,  95.,  45.],\n",
       "        [ 65.,  88.,  42.],\n",
       "        [ 67.,  86.,  41.]],\n",
       "\n",
       "       ...,\n",
       "\n",
       "       [[ 24.,  32.,  17.],\n",
       "        [ 20.,  28.,  17.],\n",
       "        [ 25.,  34.,  17.],\n",
       "        ...,\n",
       "        [ 25.,  37.,  15.],\n",
       "        [ 30.,  44.,  19.],\n",
       "        [ 30.,  48.,  22.]],\n",
       "\n",
       "       [[ 26.,  34.,  19.],\n",
       "        [ 23.,  31.,  20.],\n",
       "        [ 29.,  38.,  21.],\n",
       "        ...,\n",
       "        [ 25.,  34.,  13.],\n",
       "        [ 27.,  43.,  17.],\n",
       "        [ 30.,  46.,  20.]],\n",
       "\n",
       "       [[ 29.,  37.,  22.],\n",
       "        [ 28.,  36.,  21.],\n",
       "        [ 34.,  46.,  26.],\n",
       "        ...,\n",
       "        [ 25.,  34.,  13.],\n",
       "        [ 29.,  39.,  15.],\n",
       "        [ 27.,  45.,  19.]]], dtype=float32)"
      ]
     },
     "execution_count": 95,
     "metadata": {},
     "output_type": "execute_result"
    }
   ],
   "source": [
    "#Test the model\n",
    "arrayImg = image.img_to_array(testImg)\n",
    "arrayImg"
   ]
  },
  {
   "cell_type": "code",
   "execution_count": 96,
   "id": "863b7311",
   "metadata": {},
   "outputs": [
    {
     "name": "stdout",
     "output_type": "stream",
     "text": [
      "1/1 [==============================] - 0s 87ms/step\n"
     ]
    },
    {
     "data": {
      "text/plain": [
       "array([[1., 0., 0., 0., 0.]], dtype=float32)"
      ]
     },
     "execution_count": 96,
     "metadata": {},
     "output_type": "execute_result"
    }
   ],
   "source": [
    "arrayImg = np.expand_dims(arrayImg , axis = 0)\n",
    "predictImg = model.predict(arrayImg)\n",
    "predictImg\n"
   ]
  },
  {
   "cell_type": "code",
   "execution_count": 97,
   "id": "abe47df3",
   "metadata": {},
   "outputs": [
    {
     "data": {
      "text/plain": [
       "0"
      ]
     },
     "execution_count": 97,
     "metadata": {},
     "output_type": "execute_result"
    }
   ],
   "source": [
    "labels = [\"daisy\" , \"dandelion\", \"rose\", \"sunflower\", \"tulip\"]\n",
    "np.argmax(predictImg)"
   ]
  },
  {
   "cell_type": "code",
   "execution_count": 98,
   "id": "f90d0b8e",
   "metadata": {},
   "outputs": [
    {
     "data": {
      "text/plain": [
       "'daisy'"
      ]
     },
     "execution_count": 98,
     "metadata": {},
     "output_type": "execute_result"
    }
   ],
   "source": [
    "labels[np.argmax(predictImg)]"
   ]
  }
 ],
 "metadata": {
  "kernelspec": {
   "display_name": "Python 3 (ipykernel)",
   "language": "python",
   "name": "python3"
  },
  "language_info": {
   "codemirror_mode": {
    "name": "ipython",
    "version": 3
   },
   "file_extension": ".py",
   "mimetype": "text/x-python",
   "name": "python",
   "nbconvert_exporter": "python",
   "pygments_lexer": "ipython3",
   "version": "3.9.12"
  }
 },
 "nbformat": 4,
 "nbformat_minor": 5
}
